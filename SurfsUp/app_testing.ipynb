{
 "cells": [
  {
   "cell_type": "code",
   "execution_count": 1,
   "metadata": {},
   "outputs": [],
   "source": [
    "from flask import Flask, jsonify\n",
    "import numpy as np\n",
    "import sqlalchemy\n",
    "from sqlalchemy.ext.automap import automap_base\n",
    "from sqlalchemy.orm import Session\n",
    "from sqlalchemy import create_engine, func\n",
    "import datetime as dt\n",
    "import json"
   ]
  },
  {
   "cell_type": "code",
   "execution_count": 2,
   "metadata": {},
   "outputs": [],
   "source": [
    "# Database Setup\n",
    "engine = create_engine(\"sqlite:///Resources/hawaii.sqlite\")\n",
    "\n",
    "# reflect an existing database into a new model\n",
    "Base = automap_base()\n",
    "# reflect the tables\n",
    "Base.prepare(autoload_with=engine)\n",
    "\n",
    "# Save references to each table\n",
    "Station = Base.classes.station\n",
    "Measurement = Base.classes.measurement\n",
    "\n",
    "# Create our session (link) from Python to the DB\n",
    "session = Session(engine)"
   ]
  },
  {
   "cell_type": "code",
   "execution_count": 5,
   "metadata": {},
   "outputs": [],
   "source": [
    "def precipitation():\n",
    "    previous_year = dt.date(2017, 8, 23) - dt.timedelta(days=365)\n",
    "\n",
    "    previous_year_prcp = session.query(Measurement.date, Measurement.prcp).\\\n",
    "        filter(Measurement.date >= previous_year).\\\n",
    "        order_by(Measurement.date).all()\n",
    "\n",
    "    # Creating a dictionary from the row data and append to a list\n",
    "    all_prcp_data = []\n",
    "    for date, prcp in previous_year_prcp:\n",
    "        prcp_dict = {}\n",
    "        prcp_dict[\"date\"] = date\n",
    "        prcp_dict[\"prcp\"] = prcp\n",
    "        all_prcp_data.append(prcp_dict)\n",
    "\n",
    "    return jsonify(all_prcp_data)\n",
    "\n",
    "print()"
   ]
  },
  {
   "cell_type": "code",
   "execution_count": 6,
   "metadata": {},
   "outputs": [],
   "source": [
    "def stations():\n",
    "    session = Session(engine)\n",
    "    station_list = session.query(Station.station, Station.name).all()\n",
    "    session.close()\n",
    "\n",
    "    all_stations = []\n",
    "    for station, name in station_list:\n",
    "        station_dict = {}\n",
    "        station_dict[\"station\"] = station\n",
    "        station_dict[\"name\"] = name\n",
    "        all_stations.append(station_dict)\n",
    "    \n",
    "    return jsonify(all_stations)"
   ]
  }
 ],
 "metadata": {
  "kernelspec": {
   "display_name": ".venv",
   "language": "python",
   "name": "python3"
  },
  "language_info": {
   "codemirror_mode": {
    "name": "ipython",
    "version": 3
   },
   "file_extension": ".py",
   "mimetype": "text/x-python",
   "name": "python",
   "nbconvert_exporter": "python",
   "pygments_lexer": "ipython3",
   "version": "3.9.6"
  }
 },
 "nbformat": 4,
 "nbformat_minor": 2
}
